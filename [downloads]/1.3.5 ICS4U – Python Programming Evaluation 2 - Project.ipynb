{
 "cells": [
  {
   "cell_type": "markdown",
   "metadata": {},
   "source": [
    "# ICS4U – Python Programming Evaluation 2 Project\n",
    "## Instructions\n",
    "These ICS4U Grade 12 Computer Science python coding questions will form a part of your final grade for this course and are to be handed in for grading. \n",
    "\n",
    "For all of the following questions:\n",
    "\n",
    "- Use a Python IDE of your choice and create a coded solution to each of the given problems.\n",
    "\n",
    "- Hand in commented .py files for your solution.\n",
    "\n",
    "Your grade will be based on your ability to demonstrate the overall expectations from the Ontario Computer Studies Curriculum\n",
    "\n",
    "<details>\n",
    "\n",
    "<summary>Overall Expectations Being Evaluated</summary>\n",
    "\n",
    "A3 – Designing Algorithms\n",
    "\n",
    "- Read and write data to external data files\n",
    "\n",
    "- Process elements of a 2D list\n",
    "\n",
    "A4 – Code Maintenance\n",
    "\n",
    "- Write appropriate internal documentation explaining main points of the code\n",
    "\n",
    "</details>"
   ]
  },
  {
   "cell_type": "markdown",
   "metadata": {},
   "source": [
    "## Important\n",
    "Since you will be using File Input and Output in these questions, store the name of your data file in a variable in the very first line at the top of your program.  Then use that variable in your code to open the file.\n",
    "\n",
    "The reason for this is so that I can easily change the file name with my own test data when grading.  I won’t have to go and change anything in your code other than the first line. "
   ]
  },
  {
   "cell_type": "code",
   "execution_count": null,
   "metadata": {},
   "outputs": [],
   "source": [
    "#Example\n",
    "\n",
    "inputPath = \"dataFileIN.txt\"\n",
    "outputPath = \"dataFileOUT.txt\"\n",
    "\n",
    "#Use that variable in your code\n",
    "file = open(inputPath,\"r\")"
   ]
  },
  {
   "attachments": {
    "image-2.png": {
     "image/png": "[encoded data removed]"
    },
    "image.png": {
     "image/png": "[encoded data removed]"
    }
   },
   "cell_type": "markdown",
   "metadata": {},
   "source": [
    "<br>\n",
    "\n",
    "## ICS4U Python Programming Evaluation Question 2\n",
    "File Name:  `ICS4UfindThatMine.py`\n",
    "\n",
    "This program is based on the original Windows Game of “Minesweeper”.  The goal of that game was to find out where all the mines were in a large grid.  To help you, the game showed a number in one of the grid spaces that told you how many mines there were in a square adjacent to it.  \n",
    " \n",
    "For example, in the following 4 x 4 mine field, the mines are represented by an * character.\n",
    "\n",
    "![image.png](attachment:image.png)\n",
    "\n",
    "If we would represent the same mine field with the hints, then we would end up with\n",
    "\n",
    "![image-2.png](attachment:image-2.png)\n",
    "\n",
    "Your job is going to be to write a program that generates those hint numbers given any mine field of any size.\n",
    "\n",
    "The input for your program will be from a file that contains the mine field image.  \n",
    "\n",
    "- Mines are represented by “*” characters\n",
    "\n",
    "- Empty spaces are represented by “.” characters\n",
    "\n",
    "- There is a single space between all entries \n",
    "\n",
    "- Your program needs to be able to handle any size mine field with any number of mines at any location.\n",
    "\n",
    "The output for your program will be the mine field image with all the empty spaces replaced by their hint values (which are the number of adjacent mines). \n",
    "\n",
    "\n",
    "- Write that data to a file, don’t display it to the screen."
   ]
  }
 ],
 "metadata": {
  "language_info": {
   "name": "python"
  }
 },
 "nbformat": 4,
 "nbformat_minor": 2
}
