{
 "cells": [
  {
   "cell_type": "markdown",
   "metadata": {},
   "source": [
    "# ICS4U Homework 2 : Python Two Dimensional Lists\n",
    "\n",
    "- 1.2 HW 1, 2, 3, 4, 5\n",
    "\n",
    "## ICS4U Coding Questions\n",
    "Try to code the following questions using an IDE of your choice.  You will save those files on your computer for future reference. \n",
    "\n",
    "Each question has:\n",
    "\n",
    "- A video of your teacher live coding and explaining the solution\n",
    "\n",
    "- The final code used in the video.\n",
    "\n",
    "Try your best to solve the problems yourself without looking at the solutions.\n",
    "\n",
    "Make sure you test your programs with multiple different inputs to ensure it is functioning properly.\n",
    "\n",
    "Treat these questions like Math homework (Do as many as you feel you need to do to feel comfortable with the material)"
   ]
  },
  {
   "cell_type": "markdown",
   "metadata": {},
   "source": [
    "<br>\n",
    "\n",
    "# 1.2 HW1: ICS4U Practice Question\n",
    "Name Your File:  `ICS4UdiagonalSum.py`\n",
    "\n",
    "Take a randomly generated square 2D List (same # of rows and columns) and find the sum of both diagonals"
   ]
  },
  {
   "cell_type": "code",
   "execution_count": null,
   "metadata": {},
   "outputs": [
    {
     "name": "stdout",
     "output_type": "stream",
     "text": [
      "[[1, 7, 8, 2], [10, 2, 2, 9], [2, 2, 8, 9], [2, 1, 2, 1]]\n",
      "6\n",
      "12 8\n"
     ]
    }
   ],
   "source": [
    "import random\n",
    "# niaemi\n",
    "a= random.randint(1,10)\n",
    "lst=[]\n",
    "for r in range(a):\n",
    "    cur=[]\n",
    "    for c in range(a):\n",
    "        cur.append(random.randint(1,10))\n",
    "    lst.append(cur)\n",
    "print(lst)\n",
    "\n",
    "for i in range(0,len(lst)):\n",
    "\n",
    "\t#Cycle through each value in each column and add them up\n",
    "\trowTotal = 0\n",
    "\tfor j in range(0,len(lst[i])):\n",
    "\t\trowTotal = rowTotal + lst[i][j]\n",
    "print(rowTotal)\n",
    "sum=0\n",
    "ssum=0\n",
    "for i in range(a):\n",
    "    sum=lst[i][i]+sum\n",
    "    ssum=lst[i][a-i-1]+ssum\n",
    "\n",
    "\n",
    "\n",
    "print(sum,ssum)\n",
    "    "
   ]
  },
  {
   "cell_type": "markdown",
   "metadata": {},
   "source": [
    "<br>\n",
    "\n",
    "# 1.2 HW2: ICS4U Practice Question\n",
    "Name Your File:  `ICS4UcountSymbols2D.py`\n",
    "\n",
    "The given code generates a 2D list of a random size, randomly with 4 symbols: *, -, $, @\n",
    "\n",
    "Write some additional code that counts how many of each of the those symbols shows up in the list each time the program is run."
   ]
  },
  {
   "cell_type": "code",
   "execution_count": null,
   "metadata": {},
   "outputs": [
    {
     "name": "stdout",
     "output_type": "stream",
     "text": [
      "The list: \n",
      "* - * \n",
      "- - * \n",
      "$ @ @ \n",
      "$ @ * \n",
      "[4, 3, 2, 3]\n"
     ]
    }
   ],
   "source": [
    "import random\n",
    "\n",
    "#The 2D list\n",
    "myData = []\n",
    "\n",
    "#Size of the two list\n",
    "numRows = random.randint(3,7)\n",
    "numColumns = random.randint(3,7)\n",
    "\n",
    "#Generating the random List\n",
    "symbols = [\"*\",\"-\",\"$\",\"@\"]\n",
    "count=[0,0,0,0]\n",
    "sum=0\n",
    "\n",
    "for i in range(0,numRows):\n",
    "\n",
    "    row = []\n",
    "    for j in range(0,numColumns):\n",
    "        symbol = random.choice(symbols)\n",
    "        row.append(symbol)\n",
    "        a=symbols.index(symbol)\n",
    "        count[a]= count[a]+1\n",
    "           \n",
    "        \n",
    "\n",
    "    myData.append(row)\n",
    "\n",
    "#Print Out a nice output of the generated list\n",
    "print(\"The list: \")\n",
    "for i in range(0,numRows):\n",
    "\n",
    "    for j in range(0,numColumns):\n",
    "        print(myData[i][j], end = \" \")\n",
    "\n",
    "\n",
    "\n",
    "    print()\n",
    "\n",
    "print(count)"
   ]
  },
  {
   "cell_type": "markdown",
   "metadata": {},
   "source": [
    "<br>\n",
    "\n",
    "# 1.2 HW3: ICS4U Practice Question\n",
    "Name Your File:  `ICS4Utranspose.py`\n",
    "\n",
    "Write a program that creates a new 2D list where the rows of the first 2D list become the columns of the new 2D list.  This is called the transpose of the 2D List.  Assume the list is a rectangle. (Each row has the same number of columns)"
   ]
  },
  {
   "cell_type": "code",
   "execution_count": null,
   "metadata": {},
   "outputs": [
    {
     "name": "stdout",
     "output_type": "stream",
     "text": [
      "[[2, 7], [3, 8], [4, 9]]\n"
     ]
    }
   ],
   "source": [
    "rectangularList =   [\n",
    "                        [2,3,4],\n",
    "                        [7,8,9],\n",
    "                    ]\n",
    "\n",
    "final=[]\n",
    "# rc[1][0] rc[2][0\n",
    "# rc[1][1]]\n",
    "for j in range(len(rectangularList[0])):\n",
    "    newlst=[]\n",
    "    for i in range(len(rectangularList)):\n",
    "        newlst.append(rectangularList[i][j])\n",
    "    final.append(newlst)\n",
    "\n",
    "print(final)\n",
    "\n",
    "\n",
    "\n",
    "\n",
    "\n",
    "\n"
   ]
  },
  {
   "cell_type": "markdown",
   "metadata": {},
   "source": [
    "<br>\n",
    "\n",
    "# 1.2 HW4: ICS4U Practice Question\n",
    "Name Your File:  `ICS4UsumOfColumns.py`\n",
    "\n",
    "Write an algorithm that can find the sum of the columns in a 2D List. \n",
    "\n",
    "- Start with writing the code for a rectangular list as that is much easier\n",
    "\n",
    "- Modify the code to handle a list that has rows with different length columns (this one is much harder)"
   ]
  },
  {
   "cell_type": "code",
   "execution_count": 2,
   "metadata": {},
   "outputs": [],
   "source": [
    "rectangularList =   [\n",
    "                        [2,3,4],\n",
    "                        [7,8,9],\n",
    "                    ]\n",
    "\n",
    "nonRectangularList =[\n",
    "                        [2,3,4,5],\n",
    "                        [7,9,5,6,9,3,2],\n",
    "                        [2,5],\n",
    "                        [3,4,5,6,9,10]\n",
    "                    ]"
   ]
  },
  {
   "cell_type": "code",
   "execution_count": null,
   "metadata": {},
   "outputs": [
    {
     "ename": "IndexError",
     "evalue": "list index out of range",
     "output_type": "error",
     "traceback": [
      "\u001b[1;31m---------------------------------------------------------------------------\u001b[0m",
      "\u001b[1;31mIndexError\u001b[0m                                Traceback (most recent call last)",
      "Cell \u001b[1;32mIn[4], line 11\u001b[0m\n\u001b[0;32m      9\u001b[0m     \u001b[38;5;28;01mif\u001b[39;00m \u001b[38;5;28mlen\u001b[39m(nonRectangularList[n])\u001b[38;5;241m==\u001b[39mi:\n\u001b[0;32m     10\u001b[0m         \u001b[38;5;28;01mcontinue\u001b[39;00m\n\u001b[1;32m---> 11\u001b[0m     sssum\u001b[38;5;241m=\u001b[39m \u001b[43mnonRectangularList\u001b[49m\u001b[43m[\u001b[49m\u001b[43mi\u001b[49m\u001b[43m]\u001b[49m\u001b[43m[\u001b[49m\u001b[43mj\u001b[49m\u001b[43m]\u001b[49m\u001b[38;5;241m+\u001b[39msssum\n\u001b[0;32m     13\u001b[0m     newlst\u001b[38;5;241m.\u001b[39mappend(sssum)\n\u001b[0;32m     14\u001b[0m n\u001b[38;5;241m=\u001b[39mn\u001b[38;5;241m+\u001b[39m\u001b[38;5;241m1\u001b[39m\n",
      "\u001b[1;31mIndexError\u001b[0m: list index out of range"
     ]
    }
   ],
   "source": [
    "\n"
   ]
  },
  {
   "cell_type": "markdown",
   "metadata": {},
   "source": [
    "<br>\n",
    "\n",
    "# 1.2 HW5: ICS4U Practice Question\n",
    "Name Your File:  `ICS4UOneTwoSwitch.py`\n",
    "\n",
    "You are going to write a program that takes a 1D List of String Values (Any Length) and convert it to a 2D list with the user entering the number of columns to have in that new list.\n",
    "\n",
    "The total number of entries in the 1D list might not match the space needed in the 2D list.  If this occurs fill in the empty 2D list spaces with empty string values.\n",
    "\n",
    "- For example, if there are 14 entries in the 1D list, and user wants the 2D list to have 3 columns, then it would need 5 rows, but that creates 15 spots spots in the 2D array, and only 14 values from the 1D array.  So that last spot would be filled in with a blank String."
   ]
  }
 ],
 "metadata": {
  "kernelspec": {
   "display_name": "Python 3",
   "language": "python",
   "name": "python3"
  },
  "language_info": {
   "codemirror_mode": {
    "name": "ipython",
    "version": 3
   },
   "file_extension": ".py",
   "mimetype": "text/x-python",
   "name": "python",
   "nbconvert_exporter": "python",
   "pygments_lexer": "ipython3",
   "version": "3.13.0"
  }
 },
 "nbformat": 4,
 "nbformat_minor": 2
}
