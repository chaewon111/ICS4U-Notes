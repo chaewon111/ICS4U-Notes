{
 "cells": [
  {
   "cell_type": "markdown",
   "metadata": {},
   "source": [
    "# ICS4U – Getting Started With Python\n",
    "## ICS4U Learning Goals\n",
    "In this ICS4U lesson you will be learning how to:\n",
    "\n",
    "- Download and install Python to your computer\n",
    "\n",
    "- Use an Integrated Development Environment to write a python program\n",
    "\n",
    "- Install 3rd party python packages to your device"
   ]
  },
  {
   "attachments": {
    "image.png": {
     "image/png": "[encoded data removed]"
    }
   },
   "cell_type": "markdown",
   "metadata": {},
   "source": [
    "# Python Programming Language\n",
    "\n",
    "![image.png](attachment:image.png)\n",
    "\n",
    "The programming language of choice in this course is [Python](https://www.python.org/).  I am aware that some of you will have programmed in different languages in Grade 11.  There really isn’t much i can do to change that, but its the skills from grade 11 are what were important.  So if you were a good coder in grade 11, it shouldn’t be too much of a chore to pick up a new language pretty quickly, and you will need to put in some extra effort right away to get caught up with the essentials of Python.  If you have any interest in computer science as a future career, working with different languages is essential.\n",
    "\n",
    "Python is an Interpreted language and thus needs the python interpreter to run the code.  We can run that interpreter on our machines or through a server on the web.  For some of the learning activities I’ll just have you type the code into a web editor and run the code from there, other times you’ll need to create and run the code from  software on your computer.\n",
    "\n",
    "- A proper computer PC / Mac is required in this course.\n",
    "\n",
    "- Tablets/Chromebooks running cloud based IDE’s won’t be good enough for the entire course.\n",
    "\n",
    "The first thing you will need to do is setup an IDE (Integrated Development Environment) o your computer to run Python.\n",
    "\n",
    "- Any Python v3.XX is appropriate. (Definitely do NOT use v2.XX as there are significant differences)\n",
    "\n",
    "- I have some recommended IDE’s for you to use (That I will outline below), but you can use something different if you want as long as you can figure out how to install some specific packages with them that aren’t included with the python base installations.\n",
    "\n",
    "Note:  Python files have the extension .py  If you are trying to send these .py files over the HWDSB email system, the school board will flag them as a dangerous file and remove the attachment.  "
   ]
  },
  {
   "cell_type": "markdown",
   "metadata": {},
   "source": [
    "# Integrated Development Environments\n",
    "## Option #1 - IDLE\n",
    "This is the most straightforward and lightweight way to create and run python programs on your computer.  It comes built in when you download python from python.org. \n",
    "\n",
    "### IDLE Demo\n",
    "\n",
    "- Watch the video below for a demo on how to write a program using IDLE\n",
    "\n",
    "[ICS3U Grade 11 Computer Science - IDLE Demonstration Video](https://www.youtube.com/watch?v=eMZ9xFutxWg)\n",
    "\n",
    "### Installing additional Packages\n",
    "\n",
    "Later on in the course you will need to use some 3rd party packages for your projects.\n",
    "\n",
    "- Pygame -> We can make some simple games using this package\n",
    "\n",
    "- OpenCV-python -> We can use this do some video processing using a webcam\n",
    "\n",
    "- Numpy -> We can use this to do some more efficient math calculations\n",
    "\n",
    "- Mediapipe -> We can use this to do some computer vision applications\n",
    "\n",
    "To install these packages and be able to use them with IDLE, we can use a package management system called PIP.  To access PIP you need to open a Terminal Window on your computer.  \n",
    "\n",
    "- Windows -> Search for “cmd” in the Windows Search Bar and it will open up a terminal window.\n",
    "\n",
    "- Mac -> Press the “Command” button and the space bar simultaneously then search for “Terminal” \n",
    "\n",
    "To actually install the packages, you need to just type the following in your terminal window\n",
    "\n",
    "```pip install packageName```\n",
    "\n",
    "Note: on Windows you will likely need to type\n",
    "\n",
    "```py -m pip install packageName```"
   ]
  },
  {
   "cell_type": "markdown",
   "metadata": {},
   "source": [
    "## Option #2 - Pycharm\n",
    "\n",
    "[Pycharm](https://www.jetbrains.com/pycharm/download/) is another very popular IDE that is used to create larger python projects.  This is the IDE I use to create all my projects\n",
    "\n",
    "- You would want to use the Free “Community” version that is available to download. \n",
    "\n",
    "- There is an educational version as well free to students, but you would have to sign up.  (Always beware of giving personal information away to companies)\n",
    "\n",
    "Pycharm has a nice project management system allowing you to manage multiple files easier than IDLE.  \n",
    "\n",
    "It is also easier to manage packages for each project that you code. \n",
    "\n",
    "- You don’t need PIP to install the packages in pycharm, look for the package manager at the bottom of the IDE and you can search an install from there."
   ]
  },
  {
   "cell_type": "markdown",
   "metadata": {},
   "source": [
    "## HWDSB - SCHOOL BOARD MACHINES\n",
    "Both IDLE and Pycharm can be installed from the Software Center on the HWDSB school board machines.  \n",
    "\n",
    "- The school board restricts cmd line usage so getting the packages metnioned above installed using pip for IDLE will be a challenge without a teachers help (who knows what they are doing).  Pygame is installed by default, so the only issue that will arise will be if you tried the code from the Emerging Tech Unit.  Otherwise the entire course can be completed using IDLE as your IDE\n",
    "\n",
    "- Pycharm on a school board machine is better as you should just be able to use the package manager to install anything you need."
   ]
  },
  {
   "cell_type": "markdown",
   "metadata": {},
   "source": [
    "## Option #3 - VSCode\n",
    "\n",
    "Another popular choice is VSCode.  I don’t use it too much, but feel free to try it out and see if you can figure out how to configure it with the required packages install.  I believe if you access the terminal from within VSCode that you can pip install whatever you want."
   ]
  },
  {
   "cell_type": "markdown",
   "metadata": {},
   "source": [
    "# ICS4U Activity\n",
    "\n",
    "Install the base version of python and the required packages using PIP\n",
    "\n",
    "- Download and install an IDE of your choice.  \n",
    "\n",
    "- Install the packages listed above\n",
    "\n",
    "- Create a program called “demo.py” and enter the code below.  \n",
    "\n",
    "- Get the program to run on your device\n",
    "\n",
    "- If the code runs without errors then they installed successfully in the correct location.\n",
    "\n",
    "- Make sure you are able to find that file in your file system so when you do assignments you can hand in your work."
   ]
  },
  {
   "cell_type": "code",
   "execution_count": 1,
   "metadata": {},
   "outputs": [
    {
     "ename": "ModuleNotFoundError",
     "evalue": "No module named 'pygame'",
     "output_type": "error",
     "traceback": [
      "\u001b[1;31m---------------------------------------------------------------------------\u001b[0m",
      "\u001b[1;31mModuleNotFoundError\u001b[0m                       Traceback (most recent call last)",
      "Cell \u001b[1;32mIn[1], line 1\u001b[0m\n\u001b[1;32m----> 1\u001b[0m \u001b[38;5;28;01mimport\u001b[39;00m \u001b[38;5;21;01mpygame\u001b[39;00m\n\u001b[0;32m      2\u001b[0m \u001b[38;5;28;01mimport\u001b[39;00m \u001b[38;5;21;01mcv2\u001b[39;00m\n\u001b[0;32m      3\u001b[0m \u001b[38;5;28;01mimport\u001b[39;00m \u001b[38;5;21;01mnumpy\u001b[39;00m \u001b[38;5;28;01mas\u001b[39;00m \u001b[38;5;21;01mnp\u001b[39;00m\n",
      "\u001b[1;31mModuleNotFoundError\u001b[0m: No module named 'pygame'"
     ]
    }
   ],
   "source": [
    "import pygame\n",
    "import cv2\n",
    "import numpy as np\n",
    "import mediapipe as mp\n",
    "\n",
    "name = input(\"Enter your name: \")\n",
    "print(\"Hi\",name)"
   ]
  },
  {
   "cell_type": "markdown",
   "metadata": {},
   "source": [
    "# ICS4U Activity\n",
    "\n",
    "- Send your teacher a message indicating if you have successfully installed a working IDE with the correct packages installed.\n",
    "\n",
    "- Let him know if you are having any issues or if you are using a different IDE then recommended."
   ]
  },
  {
   "cell_type": "code",
   "execution_count": 2,
   "metadata": {},
   "outputs": [
    {
     "name": "stdout",
     "output_type": "stream",
     "text": [
      "hi\n"
     ]
    }
   ],
   "source": [
    "#느금마 느금마 느금마 느금마 느금마 느금마 느금마 느금마 느금마 느금마\n",
    "name=input('enteryour name ')\n",
    "print('hi, ')"
   ]
  }
 ],
 "metadata": {
  "kernelspec": {
   "display_name": "Python 3",
   "language": "python",
   "name": "python3"
  },
  "language_info": {
   "codemirror_mode": {
    "name": "ipython",
    "version": 3
   },
   "file_extension": ".py",
   "mimetype": "text/x-python",
   "name": "python",
   "nbconvert_exporter": "python",
   "pygments_lexer": "ipython3",
   "version": "3.13.0"
  }
 },
 "nbformat": 4,
 "nbformat_minor": 2
}
