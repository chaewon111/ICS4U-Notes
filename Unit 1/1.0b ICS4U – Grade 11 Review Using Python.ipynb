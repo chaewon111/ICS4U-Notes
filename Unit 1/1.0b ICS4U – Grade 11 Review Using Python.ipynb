{
 "cells": [
  {
   "cell_type": "markdown",
   "metadata": {},
   "source": [
    "# ICS4U – Grade 11 Review Using Python\n",
    "\n",
    "## ICS4U Learning Goals\n",
    "In this ICS4U lesson you will be reviewing the following programming concepts from grade 11:\n",
    "\n",
    "- Sequencing, Control, Repetition, Lists, Modularity"
   ]
  },
  {
   "cell_type": "markdown",
   "metadata": {},
   "source": [
    "# Prerequisite Concepts\n",
    "Since **ICS3U is a prerequisite** for this course, **there is an expectation that you already understand the concepts listed below** and can solve problems using those concepts.\n",
    "\n",
    "- Displaying Output to the Screen\n",
    "\n",
    "- Getting information from the keyboard and storing it in variables\n",
    "\n",
    "- Using variables and math formulas to solve problems\n",
    "\n",
    "- Writing code to make decisions with the use of if / else statements\n",
    "\n",
    "- Writing code that repeats itself using loops\n",
    "\n",
    "- Storing data in arrays (lists)\n",
    "\n",
    "- Writing functions (methods) to solve simple tasks\n",
    "\n",
    "Now, you might not have programmed in Python last year, but you should know how to solve coding problems and write programs using those concepts. If you understand those concepts well, then it should not be too much of a challenge to learn how to do it with Python. Below is a list of practice questions that you SHOULD be able to complete based on what you learned last year. The challenge will be that you need to code them in Python.\n",
    "\n",
    "If your grade 11 teacher did not cover those concepts, you will have to put some extra effort into learning them quickly\n",
    "\n",
    "I am going to provide you with links to my Grade 11 Material that I use in ICS3U for all of these concepts as a reference so you can learn the language. Remember that the resources below are meant to teach programming concepts as well as syntax. You are NOT required to complete ANY of the activities inside them. They are for REFERENCE ONLY. Use as much or as little as YOU need to in order to get familiar with Python\n",
    "\n",
    "- ICS3U Lesson – Screen Output\n",
    "\n",
    "- ICS3U Lesson – Variables and Input\n",
    "\n",
    "- ICS3U Lesson – Mathematical Calculations\n",
    "\n",
    "- ICS3U Lesson – Selection Structures\n",
    "\n",
    "- ICS3U Lesson Repetition Structures\n",
    "\n",
    "- ICS3U Lesson – Lists and Strings\n",
    "\n",
    "- ICS3U Lesson – Modular Programming"
   ]
  },
  {
   "cell_type": "markdown",
   "metadata": {},
   "source": [
    "# ICS4U Coding Questions\n",
    "Try to code the following questions using an IDE of your choice.  You will save those files on your computer for future reference. \n",
    "\n",
    "Each question has:\n",
    "\n",
    "- A video of your teacher live coding and explaining the solution\n",
    "\n",
    "- The final code used in the video.\n",
    "\n",
    "Try your best to solve the problems yourself without looking at the solutions.\n",
    "\n",
    "Make sure you test your programs with multiple different inputs to ensure it is functioning properly.\n",
    "\n",
    "Treat these questions like Math homework (Do as many as you feel you need to do to feel comfortable with the material)\n",
    "\n",
    "Do some self reflection while completing these practice questions and assess if you have strong enough background skills to succeed in this course.  Are you willing to put in the extra time / effort to improve those skills to an adequate level?"
   ]
  },
  {
   "cell_type": "markdown",
   "metadata": {},
   "source": [
    "# ICS4U Practice Question\n",
    "\n",
    "Name Your File:  `ICS4UquadraticFormula.py`\n",
    "\n",
    "Write a program that solves a quadratic equation in standard form using the quadratic formula. Check if the equation has zero, one, or two solutions first, using the discriminant, and then output any solutions (if there are any)."
   ]
  },
  {
   "cell_type": "code",
   "execution_count": null,
   "metadata": {},
   "outputs": [],
   "source": [
    "#ax^2+bx+c\n",
    "a= int(input())\n",
    "b= int(input())\n",
    "c= int(input())\n",
    "if b^2 - 4*a*c >0:\n",
    "    print('2 zeros')\n",
    "elif b^2 - 4*a*c ==0:\n",
    "    print('1 zeros')\n",
    "elif b^2 - 4*a*c <0:\n",
    "    print('0 zeros')\n",
    "\n"
   ]
  },
  {
   "cell_type": "markdown",
   "metadata": {},
   "source": [
    "# ICS4U Practice Question\n",
    "Name Your File:  `ICS4Uattendance.py` \n",
    "\n",
    "A student is not allowed to write a University exam if their attendance is less than 75%. Write a program that accepts the number of classes held, the number of classes attended and print out the attendance % and if they are allowed to write the exam or not"
   ]
  },
  {
   "cell_type": "code",
   "execution_count": null,
   "metadata": {},
   "outputs": [],
   "source": [
    "# 애미 없다다"
   ]
  },
  {
   "cell_type": "markdown",
   "metadata": {},
   "source": [
    "# ICS4U Practice Question\n",
    "\n",
    "Name Your File:  `ICS4Usequence.py`\n",
    "\n",
    "Let the user input a positive integer.\n",
    "\n",
    "- If the number is even divide it by 2.\n",
    "\n",
    "- If the number is odd multiply it by 3 and add 1.\n",
    "\n",
    "Take the new number you generated and repeat the process. If you repeat this process enough times then eventually the number you generate will always equal to 1. Write a program outputs the sequence of numbers until it gets to 1"
   ]
  },
  {
   "cell_type": "code",
   "execution_count": null,
   "metadata": {},
   "outputs": [],
   "source": [
    "num= int(input())\n",
    "lst=[]\n",
    "while num!=1:\n",
    "    if num%2==0:\n",
    "        num=num//2\n",
    "        lst.append(num)\n",
    "    else:\n",
    "        num= num*3+1 \n",
    "        lst.append(num)\n",
    "\n",
    "print(lst)"
   ]
  },
  {
   "cell_type": "markdown",
   "metadata": {},
   "source": [
    "# ICS4U Practice Question\n",
    "\n",
    "Name Your File:  `ICS4UperfectNumbers.py`\n",
    "\n",
    "Create a function that determines if a number is a perfect number and then find the first 500 perfect numbers starting at 1. \n",
    "\n",
    "- A number if perfect if all of its factors (excluding the number itself) add up to the number. \n",
    "\n",
    "- 6 is perfect because it has factors 1,2,3,6 and 1 + 2 + 3 = 6"
   ]
  },
  {
   "cell_type": "code",
   "execution_count": null,
   "metadata": {},
   "outputs": [],
   "source": [
    "for i in range(1,500):\n",
    "    for "
   ]
  },
  {
   "cell_type": "markdown",
   "metadata": {},
   "source": [
    "# ICS4U Practice Question\n",
    "\n",
    "Name Your File:  `ICS4UexponentsFunction.py`\n",
    "\n",
    "Create a function that does power functions a^b without using the built in exponents functions in python"
   ]
  },
  {
   "cell_type": "code",
   "execution_count": null,
   "metadata": {},
   "outputs": [],
   "source": [
    "def main(a,b ):\n",
    "    return a**b"
   ]
  },
  {
   "cell_type": "code",
   "execution_count": null,
   "metadata": {},
   "outputs": [],
   "source": []
  },
  {
   "cell_type": "markdown",
   "metadata": {},
   "source": [
    "# ICS4U Practice Question\n",
    "\n",
    "Name Your File:  `ICS4Upalindrome.py`\n",
    "\n",
    "Write a program that checks if a single word entered from the user is a palindrome.  Don’t use the built in “String Reverse” function python has."
   ]
  },
  {
   "cell_type": "markdown",
   "metadata": {},
   "source": [
    "# ICS4U Practice Question\n",
    "\n",
    "Name Your File:  `ICS4UcountingList.py` \n",
    "\n",
    "Write a program that displays a random list of 75 numbers between 15 and 50 to the user.  Once that list is displayed, ask them for a target to search for.  Display how many of the target values are in the list"
   ]
  },
  {
   "cell_type": "markdown",
   "metadata": {},
   "source": [
    "# ICS4U Practice Question\n",
    "\n",
    "Name Your File:  `ICS4UalternatingList.py`\n",
    "\n",
    "Write a program that generates a random list of numbers between 0 and 100.  The size of the list is random between 4 and 20 and must an even number.  Output a new list in alternating reverse order\n",
    "\n",
    "Ex.  If the list is [1,2,3,4,5,6] then output [1,6,2,5,3,4]"
   ]
  },
  {
   "cell_type": "markdown",
   "metadata": {},
   "source": [
    "# ICS4U Practice Question\n",
    "\n",
    "Name Your File:  `ICS4UkprNumbers.py`\n",
    "\n",
    "The KPR value of a number N is the smallest number that is divisible by all the integers between 1 and N. For example the KPR of 5 is 60 because 60 is the smallest number that is divisible by 1, 2, 3, 4, and 5. Display all the KPR values of the numbers from 1 to 20. Try to get your program to finish in less than 30 seconds\n",
    "\n",
    "Here are some other KPR Values\n",
    "\n",
    "- KPR(13) = 360360\n",
    "\n",
    "- KPR(17) = 12252240\n",
    "\n",
    "- KPR(19) = 23792560"
   ]
  }
 ],
 "metadata": {
  "language_info": {
   "name": "python"
  }
 },
 "nbformat": 4,
 "nbformat_minor": 2
}
