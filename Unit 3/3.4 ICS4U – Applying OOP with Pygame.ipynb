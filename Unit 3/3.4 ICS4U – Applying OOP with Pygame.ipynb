{
 "cells": [
  {
   "cell_type": "markdown",
   "metadata": {},
   "source": [
    "# ICS4U – Applying OOP with Pygame\n",
    "## ICS4U Learning Goals\n",
    "In this ICS4U Grade 12 Computer Science lesson you will be learning how to\n",
    "\n",
    "- Make a simple game using the Python Pygame Library\n",
    "\n",
    "- Create a program a program using multiple classes\n",
    "\n",
    "- Apply the principles of inheritance to a program"
   ]
  },
  {
   "cell_type": "markdown",
   "metadata": {},
   "source": [
    "<br>\n",
    "\n",
    "# Install the Pygame Module\n",
    "Some python installations already include the Pygame library Modules.  An easy way to check is to run a program with the line"
   ]
  },
  {
   "cell_type": "code",
   "execution_count": null,
   "metadata": {},
   "outputs": [],
   "source": [
    "# If you don't have pygame installed,\n",
    "# => Run this Code ONLY ONCE.\n",
    "! pip install pygame"
   ]
  },
  {
   "cell_type": "code",
   "execution_count": null,
   "metadata": {},
   "outputs": [],
   "source": [
    "import pygame"
   ]
  },
  {
   "cell_type": "markdown",
   "metadata": {},
   "source": [
    "If it runs without an error you are already setup and good to go.  If not, then we need to use PIP (a package management system) to install the libraries.  \n",
    "\n",
    "These are what I have found works best for some different IDE’s\n",
    "\n",
    "- IDLE on Windows -> Open a command prompt and type \n",
    "\n",
    "  - `py -m pip install pygame`\n",
    "\n",
    "- IDLE on Mac -> Open a Terminal  and type \n",
    "\n",
    "  - `pip install pygame`\n",
    "\n",
    "- Ancaconda Installation -> Search for “Anaconda Prompt” and in the terminal window type\n",
    "\n",
    "  - `pip install pygame`\n",
    "\n",
    "- VSCode on Windows -> Open a terminal inside VSCode and type\n",
    "\n",
    "  - `py -m pip install pygame`\n",
    "\n",
    "- Pycharm -> Has a built in package manager you can access from the bottom left portion on the app.  You can search and install pygame from there."
   ]
  },
  {
   "cell_type": "markdown",
   "metadata": {},
   "source": [
    "<br>\n",
    "\n",
    "# Basics of Pygame\n",
    "Pygame is event-driven.  That means it is not a linear flowing program that you have been used to creating.  The program waits for events to happen, and then responds accordingly.  Common events might be mouse clicks, keyboard presses, collisions.  To make this happen you will require and infinite game loop that never stops until the program is closed.  Basically your loop will accomplish the following tasks\n",
    "\n",
    "- Check for events\n",
    "\n",
    "- Update the gamestate (positions, velocities, other variables) based on what event occcured\n",
    "\n",
    "- Draw the background\n",
    "\n",
    "- Draw the images of everything in the game on the background\n",
    "\n",
    "- The details of how exactly to do this in pygame can get really complicated, very fast.  There are MANY different ways that you will find on the internet on how different coders will make all these things fit together. \n",
    "\n",
    "I have decided to come up with a way to do all this so it follows the curriculum for the course.  We are taking an Object Oriented Approach to creating these games.  That is, you must think of everything in the game as an object.  Everything you add to your games will be coded inside classes.  (It doesn’t have to but we have an obligation to meet the curriculum requirements, so that is what you are going to do)\n",
    "\n",
    "To make this easier, and to take the focus off of actually having to learn the gritty details of pygame, we are going to use a custom Module that I created. You MUST use this module when doing your assignments to ensure that you are meeting the curriculum requirements on the course."
   ]
  },
  {
   "cell_type": "markdown",
   "metadata": {},
   "source": [
    "<br>\n",
    "\n",
    "# Course Pygame Module\n",
    "\n",
    "Best way to handle the module is just to save it in the same directory as your python .py game file"
   ]
  },
  {
   "cell_type": "markdown",
   "metadata": {},
   "source": [
    "<br>\n",
    "\n",
    "# Game Template\n",
    "You have a main game window.  In the game you will add Rooms.  Rooms act like levels in your game.  Your first room might be a title screen, then you might have several levels in your game. Finally you might decide to have a game over screen with high scores. \n",
    "\n",
    "All the objects objects you create for your game will be added to their specific room  The game loop will keep track of what Room the game is currently in and only update and draw the objects in the correct room.  When an event happens that requires the game to proceed to a different room, it will do so and only update objects in that room."
   ]
  },
  {
   "cell_type": "code",
   "execution_count": null,
   "metadata": {},
   "outputs": [],
   "source": [
    "import pygame\n",
    "from pygameRogers import Room"
   ]
  }
 ],
 "metadata": {
  "kernelspec": {
   "display_name": ".venv",
   "language": "python",
   "name": "python3"
  },
  "language_info": {
   "codemirror_mode": {
    "name": "ipython",
    "version": 3
   },
   "file_extension": ".py",
   "mimetype": "text/x-python",
   "name": "python",
   "nbconvert_exporter": "python",
   "pygments_lexer": "ipython3",
   "version": "3.12.5"
  }
 },
 "nbformat": 4,
 "nbformat_minor": 2
}
