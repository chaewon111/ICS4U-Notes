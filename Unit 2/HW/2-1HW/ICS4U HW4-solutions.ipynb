{
 "cells": [
  {
   "cell_type": "markdown",
   "metadata": {},
   "source": [
    "# ICS4U Homework 4 - Solutions"
   ]
  },
  {
   "cell_type": "code",
   "execution_count": null,
   "metadata": {},
   "outputs": [],
   "source": [
    "# 2.1 HW1 - ICS4UsequentialMod.py\n",
    "def sequentialSearchLast(a, target):\n",
    "    last = -1\n",
    "    for i in range(0,len(a)):\n",
    "        if target == a[i]:\n",
    "            last = i\n",
    "    return last\n",
    "\n",
    "def sequentialSearchAll(a,target):\n",
    "    locations = []\n",
    "    for i in range(0,len(a)):\n",
    "        if target == a[i]:\n",
    "            locations.append(i)\n",
    "    return locations"
   ]
  },
  {
   "cell_type": "code",
   "execution_count": null,
   "metadata": {},
   "outputs": [],
   "source": [
    "# 2.1 HW2 - Working on it"
   ]
  }
 ],
 "metadata": {
  "language_info": {
   "name": "python"
  }
 },
 "nbformat": 4,
 "nbformat_minor": 2
}
