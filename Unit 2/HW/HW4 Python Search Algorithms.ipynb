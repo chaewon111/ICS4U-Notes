{
 "cells": [
  {
   "cell_type": "markdown",
   "metadata": {},
   "source": [
    "# ICS4U Homework 4 : Python Search Algorithms\n",
    "\n",
    "# ICS4U Coding Questions\n",
    "Try to code the following questions using an IDE of your choice.  You will save those files on your computer for future reference. \n",
    "\n",
    "Each question has:\n",
    "\n",
    "- A video of your teacher live coding and explaining the solution\n",
    "\n",
    "- The final code used in the video.\n",
    "\n",
    "Try your best to solve the problems yourself without looking at the solutions.\n",
    "\n",
    "Make sure you test your programs with multiple different inputs to ensure it is functioning properly.\n",
    "\n",
    "Treat these questions like Math homework (Do as many as you feel you need to do to feel comfortable with the material)"
   ]
  },
  {
   "cell_type": "markdown",
   "metadata": {},
   "source": [
    "<br>\n",
    "\n",
    "# 2.1 HW1: ICS4U Practice Question\n",
    "Name Your File:  `ICS4UsequentialMod.py`\n",
    "\n",
    "Write a couple of new functions for the sequential search algorithm so that it will return\n",
    "\n",
    "- the last occurrence of the target in the list\n",
    "\n",
    "- all the target locations in the list (return a list of the target locations)"
   ]
  },
  {
   "cell_type": "markdown",
   "metadata": {},
   "source": [
    "<br>\n",
    "\n",
    "# 2.1 HW2: ICS4U Practice Question\n",
    "Explore Maze Searching\n",
    "\n",
    "- Make your own maze to test the recursive maze program.\n",
    "\n",
    "    - Make sure your maze has multiple ways to get to the end\n",
    "\n",
    "- Each time the program runs, it finds a different solution to the maze by exploring a different path.\n",
    "\n",
    "    - Run your program several times and each time have it count how many moves it takes to get to the end.\n",
    "\n",
    "    - Append that data to a text file after each run of the program.\n",
    "\n",
    "- Write a secondary program that will display the average, max, and min number of steps needed to find the solution to your maze"
   ]
  }
 ],
 "metadata": {
  "language_info": {
   "name": "python"
  }
 },
 "nbformat": 4,
 "nbformat_minor": 2
}
