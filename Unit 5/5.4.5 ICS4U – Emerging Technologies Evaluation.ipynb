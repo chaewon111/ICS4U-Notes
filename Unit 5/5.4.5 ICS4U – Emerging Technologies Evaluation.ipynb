{
 "cells": [
  {
   "cell_type": "markdown",
   "metadata": {},
   "source": [
    "# ICS4U – Python Programming Evaluation 6\n",
    "## Instructions\n",
    "\n",
    "In the final part of ICS3U Grade 12 Computer Science course you are going to do a little bit of research involving artificial intelligence and its applications.  In particular you will be looking at Self Driving Car Technology\n",
    "\n",
    "<details>\n",
    "<summary>Overall Expectations Being Evaluated</summary>\n",
    "\n",
    "D1 – Environmental Stewardship\n",
    "\n",
    "- Outline the impact that self driving cars will have on the environment\n",
    "\n",
    "D2 – Ethical Practices\n",
    "\n",
    "- Demonstrate an understanding of ethical problems facing computer scientists when designing algorithms for self driving cars\n",
    "\n",
    "D3 – Emerging Technologies and Society\n",
    "\n",
    "- Outline the impact that self driving cars will have on Society\n",
    "\n",
    "D4 – Exploring Computer Science\n",
    "\n",
    "- Outline the skills and education required to work on self driving cars\n",
    "\n",
    "- Explore the computer science principles that are used in self driving car technology\n",
    "\n",
    "</details>\n",
    "\n",
    "Make sure you hand in your work when completed"
   ]
  },
  {
   "cell_type": "markdown",
   "metadata": {},
   "source": [
    "<br>\n",
    "\n",
    "# Section A. Self Driving Cars and Society\n",
    "\n",
    "## Question #1 - Society & The Environment\n",
    "Identify 5 – 10 ways that you think self driving car technology will affect society.  Make sure to include positive impacts, negative impacts, and specifically environmental impacts.  (Each point you make should be accompanied by some type of explanation / reasoning)\n",
    "\n",
    "## Question #2 - Privacy & Data Collection\n",
    "For self-driving cars to run efficiently, a massive amount of data must be collected through the car’s sensors. While driving, autonomous cars continuously store data about their surroundings that allows them to learn and get smarter. This raises many security issues as self-driving cars hold large amounts of data including where the driver and passenger have been, driver communication when mobile phones are hooked, and conversations in the vehicle between drivers and passengers. \n",
    "\n",
    "- Is this something you feel would be a concern to you personally? Why or Why Not?\n",
    "\n",
    "If you were in an accident should the courts allow that data to be used for insurance purposes, civil liability trials, criminal investigations."
   ]
  },
  {
   "cell_type": "markdown",
   "metadata": {},
   "source": [
    "<br>\n",
    "\n",
    "# Section B. Technology Used in Self Driving Cars\n",
    "## Question #1 - How Does a Self Driving Car \"see\"?\n",
    "Do some research and answer the following questions.  State a few sources.\n",
    "\n",
    "- Identify 3 – 4 ways that computer vision can be used in self driving cars.\n",
    "\n",
    "- What is LiDAR and how can it be used in self driving cars?\n",
    "\n",
    "- Does Tesla pefer LiDAR or Computer Vision for its self driving cars? Why?\n",
    "\n",
    "## Question #2\n",
    "\n",
    "Identify some different types of machine learning algorithms that a car company might need to use when designing a self driving car\n",
    "\n",
    "## Question #3\n",
    "\n",
    "Would Generative AI have any use in the design and function of a self driving car?\n"
   ]
  },
  {
   "cell_type": "markdown",
   "metadata": {},
   "source": [
    "<br>\n",
    "\n",
    "# Section C. Skills and Education\n",
    "## Question #1\n",
    "Make a list of different school subjects you might need to know about if you wanted to work in the field of self driving cars.  \n",
    "\n",
    "- What skills do you need?\n",
    "\n",
    "- What level of higher education is recommended?"
   ]
  },
  {
   "cell_type": "markdown",
   "metadata": {},
   "source": [
    "<br>\n",
    "\n",
    "# Section D. Ethics\n",
    "When a driver slams on the brakes to avoid hitting a pedestrian crossing the road illegally, they are making a moral decision that shifts risk from the pedestrian to the people in the car.  Self driving cars will have to make such ethical judgements on their own.  Who gets to decide on the moral code that vehicles should follow? Should there be some standard.  Lots of unanswered questions.\n",
    "\n",
    "https://www.youtube.com/watch?v=jPo6bby-Fcg\n",
    "\n",
    "Watch the video and answer the question below\n",
    "\n",
    "- Who do you hold responsible for accidents in a self driving car? The owner of the vehicle? The “Driver” of the car at the time of the accident?  The car manufacturer? The engineer who designed the software?\n",
    "\n",
    "- Justify your answer."
   ]
  }
 ],
 "metadata": {
  "language_info": {
   "name": "python"
  }
 },
 "nbformat": 4,
 "nbformat_minor": 2
}
